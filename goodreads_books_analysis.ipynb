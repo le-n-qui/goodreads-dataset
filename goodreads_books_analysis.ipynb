{
 "cells": [
  {
   "cell_type": "code",
   "execution_count": 1,
   "id": "5738649e",
   "metadata": {},
   "outputs": [],
   "source": [
    "# Setup\n",
    "# pandas dataframe\n",
    "import pandas as pd\n",
    "# matplotlib\n",
    "import matplotlib.pyplot as plt\n",
    "# Read in csv file\n",
    "books = pd.read_csv(\"books.csv\")"
   ]
  },
  {
   "cell_type": "code",
   "execution_count": 2,
   "id": "2c2c42ff",
   "metadata": {},
   "outputs": [
    {
     "data": {
      "text/html": [
       "<div>\n",
       "<style scoped>\n",
       "    .dataframe tbody tr th:only-of-type {\n",
       "        vertical-align: middle;\n",
       "    }\n",
       "\n",
       "    .dataframe tbody tr th {\n",
       "        vertical-align: top;\n",
       "    }\n",
       "\n",
       "    .dataframe thead th {\n",
       "        text-align: right;\n",
       "    }\n",
       "</style>\n",
       "<table border=\"1\" class=\"dataframe\">\n",
       "  <thead>\n",
       "    <tr style=\"text-align: right;\">\n",
       "      <th></th>\n",
       "      <th>bookID</th>\n",
       "      <th>title</th>\n",
       "      <th>authors</th>\n",
       "      <th>average_rating</th>\n",
       "      <th>isbn</th>\n",
       "      <th>isbn13</th>\n",
       "      <th>language_code</th>\n",
       "      <th>num_pages</th>\n",
       "      <th>ratings_count</th>\n",
       "      <th>text_reviews_count</th>\n",
       "      <th>publication_date</th>\n",
       "      <th>publisher</th>\n",
       "    </tr>\n",
       "  </thead>\n",
       "  <tbody>\n",
       "    <tr>\n",
       "      <th>0</th>\n",
       "      <td>1</td>\n",
       "      <td>The Ultimate Hitchhiker's Guide: Five Complete...</td>\n",
       "      <td>Douglas Adams</td>\n",
       "      <td>4.38</td>\n",
       "      <td>517226952</td>\n",
       "      <td>9780517226957</td>\n",
       "      <td>eng</td>\n",
       "      <td>815</td>\n",
       "      <td>3628</td>\n",
       "      <td>254</td>\n",
       "      <td>11/01/2005</td>\n",
       "      <td>Gramercy Books</td>\n",
       "    </tr>\n",
       "    <tr>\n",
       "      <th>1</th>\n",
       "      <td>2</td>\n",
       "      <td>The Ultimate Hitchhiker's Guide to the Galaxy ...</td>\n",
       "      <td>Douglas Adams</td>\n",
       "      <td>4.38</td>\n",
       "      <td>345453743</td>\n",
       "      <td>9780345453747</td>\n",
       "      <td>eng</td>\n",
       "      <td>815</td>\n",
       "      <td>249558</td>\n",
       "      <td>4080</td>\n",
       "      <td>04/30/2002</td>\n",
       "      <td>Del Rey Books</td>\n",
       "    </tr>\n",
       "    <tr>\n",
       "      <th>2</th>\n",
       "      <td>4</td>\n",
       "      <td>The Hitchhiker's Guide to the Galaxy (Hitchhik...</td>\n",
       "      <td>Douglas Adams</td>\n",
       "      <td>4.22</td>\n",
       "      <td>1400052920</td>\n",
       "      <td>9781400052929</td>\n",
       "      <td>eng</td>\n",
       "      <td>215</td>\n",
       "      <td>4930</td>\n",
       "      <td>460</td>\n",
       "      <td>08/03/2004</td>\n",
       "      <td>Crown</td>\n",
       "    </tr>\n",
       "    <tr>\n",
       "      <th>3</th>\n",
       "      <td>5</td>\n",
       "      <td>The Hitchhiker's Guide to the Galaxy (Hitchhik...</td>\n",
       "      <td>Douglas Adams/Stephen Fry</td>\n",
       "      <td>4.22</td>\n",
       "      <td>739322206</td>\n",
       "      <td>9780739322208</td>\n",
       "      <td>eng</td>\n",
       "      <td>6</td>\n",
       "      <td>1266</td>\n",
       "      <td>253</td>\n",
       "      <td>03/23/2005</td>\n",
       "      <td>Random House Audio</td>\n",
       "    </tr>\n",
       "    <tr>\n",
       "      <th>4</th>\n",
       "      <td>8</td>\n",
       "      <td>The Ultimate Hitchhiker's Guide (Hitchhiker's ...</td>\n",
       "      <td>Douglas Adams</td>\n",
       "      <td>4.38</td>\n",
       "      <td>517149257</td>\n",
       "      <td>9780517149256</td>\n",
       "      <td>eng</td>\n",
       "      <td>815</td>\n",
       "      <td>2877</td>\n",
       "      <td>195</td>\n",
       "      <td>01/17/96</td>\n",
       "      <td>Wings Books</td>\n",
       "    </tr>\n",
       "  </tbody>\n",
       "</table>\n",
       "</div>"
      ],
      "text/plain": [
       "   bookID                                              title  \\\n",
       "0       1  The Ultimate Hitchhiker's Guide: Five Complete...   \n",
       "1       2  The Ultimate Hitchhiker's Guide to the Galaxy ...   \n",
       "2       4  The Hitchhiker's Guide to the Galaxy (Hitchhik...   \n",
       "3       5  The Hitchhiker's Guide to the Galaxy (Hitchhik...   \n",
       "4       8  The Ultimate Hitchhiker's Guide (Hitchhiker's ...   \n",
       "\n",
       "                     authors  average_rating        isbn         isbn13  \\\n",
       "0              Douglas Adams            4.38   517226952  9780517226957   \n",
       "1              Douglas Adams            4.38   345453743  9780345453747   \n",
       "2              Douglas Adams            4.22  1400052920  9781400052929   \n",
       "3  Douglas Adams/Stephen Fry            4.22   739322206  9780739322208   \n",
       "4              Douglas Adams            4.38   517149257  9780517149256   \n",
       "\n",
       "  language_code  num_pages  ratings_count  text_reviews_count  \\\n",
       "0           eng        815           3628                 254   \n",
       "1           eng        815         249558                4080   \n",
       "2           eng        215           4930                 460   \n",
       "3           eng          6           1266                 253   \n",
       "4           eng        815           2877                 195   \n",
       "\n",
       "  publication_date           publisher  \n",
       "0       11/01/2005      Gramercy Books  \n",
       "1       04/30/2002       Del Rey Books  \n",
       "2       08/03/2004               Crown  \n",
       "3       03/23/2005  Random House Audio  \n",
       "4         01/17/96         Wings Books  "
      ]
     },
     "execution_count": 2,
     "metadata": {},
     "output_type": "execute_result"
    }
   ],
   "source": [
    "# View our dataset from top\n",
    "# Get a sense of our data columns\n",
    "books.head(5)"
   ]
  },
  {
   "cell_type": "code",
   "execution_count": 3,
   "id": "77a27b43",
   "metadata": {},
   "outputs": [
    {
     "data": {
      "text/html": [
       "<div>\n",
       "<style scoped>\n",
       "    .dataframe tbody tr th:only-of-type {\n",
       "        vertical-align: middle;\n",
       "    }\n",
       "\n",
       "    .dataframe tbody tr th {\n",
       "        vertical-align: top;\n",
       "    }\n",
       "\n",
       "    .dataframe thead th {\n",
       "        text-align: right;\n",
       "    }\n",
       "</style>\n",
       "<table border=\"1\" class=\"dataframe\">\n",
       "  <thead>\n",
       "    <tr style=\"text-align: right;\">\n",
       "      <th></th>\n",
       "      <th>bookID</th>\n",
       "      <th>title</th>\n",
       "      <th>authors</th>\n",
       "      <th>average_rating</th>\n",
       "      <th>isbn</th>\n",
       "      <th>isbn13</th>\n",
       "      <th>language_code</th>\n",
       "      <th>num_pages</th>\n",
       "      <th>ratings_count</th>\n",
       "      <th>text_reviews_count</th>\n",
       "      <th>publication_date</th>\n",
       "      <th>publisher</th>\n",
       "    </tr>\n",
       "  </thead>\n",
       "  <tbody>\n",
       "    <tr>\n",
       "      <th>11122</th>\n",
       "      <td>45631</td>\n",
       "      <td>Expelled from Eden: A William T. Vollmann Reader</td>\n",
       "      <td>William T. Vollmann/Larry McCaffery/Michael He...</td>\n",
       "      <td>4.06</td>\n",
       "      <td>1560254416</td>\n",
       "      <td>9781560254416</td>\n",
       "      <td>eng</td>\n",
       "      <td>512</td>\n",
       "      <td>156</td>\n",
       "      <td>20</td>\n",
       "      <td>12/21/2004</td>\n",
       "      <td>Da Capo Press</td>\n",
       "    </tr>\n",
       "    <tr>\n",
       "      <th>11123</th>\n",
       "      <td>45633</td>\n",
       "      <td>You Bright and Risen Angels</td>\n",
       "      <td>William T. Vollmann</td>\n",
       "      <td>4.08</td>\n",
       "      <td>140110879</td>\n",
       "      <td>9780140110876</td>\n",
       "      <td>eng</td>\n",
       "      <td>635</td>\n",
       "      <td>783</td>\n",
       "      <td>56</td>\n",
       "      <td>12/01/1988</td>\n",
       "      <td>Penguin Books</td>\n",
       "    </tr>\n",
       "    <tr>\n",
       "      <th>11124</th>\n",
       "      <td>45634</td>\n",
       "      <td>The Ice-Shirt (Seven Dreams #1)</td>\n",
       "      <td>William T. Vollmann</td>\n",
       "      <td>3.96</td>\n",
       "      <td>140131965</td>\n",
       "      <td>9780140131963</td>\n",
       "      <td>eng</td>\n",
       "      <td>415</td>\n",
       "      <td>820</td>\n",
       "      <td>95</td>\n",
       "      <td>08/01/1993</td>\n",
       "      <td>Penguin Books</td>\n",
       "    </tr>\n",
       "    <tr>\n",
       "      <th>11125</th>\n",
       "      <td>45639</td>\n",
       "      <td>Poor People</td>\n",
       "      <td>William T. Vollmann</td>\n",
       "      <td>3.72</td>\n",
       "      <td>60878827</td>\n",
       "      <td>9780060878825</td>\n",
       "      <td>eng</td>\n",
       "      <td>434</td>\n",
       "      <td>769</td>\n",
       "      <td>139</td>\n",
       "      <td>02/27/2007</td>\n",
       "      <td>Ecco</td>\n",
       "    </tr>\n",
       "    <tr>\n",
       "      <th>11126</th>\n",
       "      <td>45641</td>\n",
       "      <td>Artemis Fowl (Artemis Fowl  #1)</td>\n",
       "      <td>Eoin Colfer/Nathaniel Parker</td>\n",
       "      <td>3.84</td>\n",
       "      <td>1400085918</td>\n",
       "      <td>9781400085910</td>\n",
       "      <td>eng</td>\n",
       "      <td>6</td>\n",
       "      <td>55</td>\n",
       "      <td>14</td>\n",
       "      <td>04/06/2004</td>\n",
       "      <td>Listening Library</td>\n",
       "    </tr>\n",
       "  </tbody>\n",
       "</table>\n",
       "</div>"
      ],
      "text/plain": [
       "       bookID                                             title  \\\n",
       "11122   45631  Expelled from Eden: A William T. Vollmann Reader   \n",
       "11123   45633                       You Bright and Risen Angels   \n",
       "11124   45634                   The Ice-Shirt (Seven Dreams #1)   \n",
       "11125   45639                                       Poor People   \n",
       "11126   45641                   Artemis Fowl (Artemis Fowl  #1)   \n",
       "\n",
       "                                                 authors  average_rating  \\\n",
       "11122  William T. Vollmann/Larry McCaffery/Michael He...            4.06   \n",
       "11123                                William T. Vollmann            4.08   \n",
       "11124                                William T. Vollmann            3.96   \n",
       "11125                                William T. Vollmann            3.72   \n",
       "11126                       Eoin Colfer/Nathaniel Parker            3.84   \n",
       "\n",
       "             isbn         isbn13 language_code  num_pages  ratings_count  \\\n",
       "11122  1560254416  9781560254416           eng        512            156   \n",
       "11123   140110879  9780140110876           eng        635            783   \n",
       "11124   140131965  9780140131963           eng        415            820   \n",
       "11125    60878827  9780060878825           eng        434            769   \n",
       "11126  1400085918  9781400085910           eng          6             55   \n",
       "\n",
       "       text_reviews_count publication_date          publisher  \n",
       "11122                  20       12/21/2004      Da Capo Press  \n",
       "11123                  56       12/01/1988      Penguin Books  \n",
       "11124                  95       08/01/1993      Penguin Books  \n",
       "11125                 139       02/27/2007               Ecco  \n",
       "11126                  14       04/06/2004  Listening Library  "
      ]
     },
     "execution_count": 3,
     "metadata": {},
     "output_type": "execute_result"
    }
   ],
   "source": [
    "# Let us see a few books at the bottom of the file\n",
    "books.tail(5)"
   ]
  },
  {
   "cell_type": "code",
   "execution_count": 4,
   "id": "d229e5ae",
   "metadata": {},
   "outputs": [
    {
     "data": {
      "text/html": [
       "<div>\n",
       "<style scoped>\n",
       "    .dataframe tbody tr th:only-of-type {\n",
       "        vertical-align: middle;\n",
       "    }\n",
       "\n",
       "    .dataframe tbody tr th {\n",
       "        vertical-align: top;\n",
       "    }\n",
       "\n",
       "    .dataframe thead th {\n",
       "        text-align: right;\n",
       "    }\n",
       "</style>\n",
       "<table border=\"1\" class=\"dataframe\">\n",
       "  <thead>\n",
       "    <tr style=\"text-align: right;\">\n",
       "      <th></th>\n",
       "      <th>bookID</th>\n",
       "      <th>average_rating</th>\n",
       "      <th>isbn13</th>\n",
       "      <th>num_pages</th>\n",
       "      <th>ratings_count</th>\n",
       "      <th>text_reviews_count</th>\n",
       "    </tr>\n",
       "  </thead>\n",
       "  <tbody>\n",
       "    <tr>\n",
       "      <th>count</th>\n",
       "      <td>11127.000000</td>\n",
       "      <td>11127.000000</td>\n",
       "      <td>1.112700e+04</td>\n",
       "      <td>11127.000000</td>\n",
       "      <td>1.112700e+04</td>\n",
       "      <td>11127.000000</td>\n",
       "    </tr>\n",
       "    <tr>\n",
       "      <th>mean</th>\n",
       "      <td>21310.938887</td>\n",
       "      <td>3.933631</td>\n",
       "      <td>9.759888e+12</td>\n",
       "      <td>336.376921</td>\n",
       "      <td>1.793641e+04</td>\n",
       "      <td>541.854498</td>\n",
       "    </tr>\n",
       "    <tr>\n",
       "      <th>std</th>\n",
       "      <td>13093.358023</td>\n",
       "      <td>0.352445</td>\n",
       "      <td>4.428964e+11</td>\n",
       "      <td>241.127305</td>\n",
       "      <td>1.124794e+05</td>\n",
       "      <td>2576.176608</td>\n",
       "    </tr>\n",
       "    <tr>\n",
       "      <th>min</th>\n",
       "      <td>1.000000</td>\n",
       "      <td>0.000000</td>\n",
       "      <td>8.987060e+09</td>\n",
       "      <td>0.000000</td>\n",
       "      <td>0.000000e+00</td>\n",
       "      <td>0.000000</td>\n",
       "    </tr>\n",
       "    <tr>\n",
       "      <th>25%</th>\n",
       "      <td>10287.000000</td>\n",
       "      <td>3.770000</td>\n",
       "      <td>9.780345e+12</td>\n",
       "      <td>192.000000</td>\n",
       "      <td>1.040000e+02</td>\n",
       "      <td>9.000000</td>\n",
       "    </tr>\n",
       "    <tr>\n",
       "      <th>50%</th>\n",
       "      <td>20287.000000</td>\n",
       "      <td>3.960000</td>\n",
       "      <td>9.780586e+12</td>\n",
       "      <td>299.000000</td>\n",
       "      <td>7.450000e+02</td>\n",
       "      <td>46.000000</td>\n",
       "    </tr>\n",
       "    <tr>\n",
       "      <th>75%</th>\n",
       "      <td>32104.500000</td>\n",
       "      <td>4.135000</td>\n",
       "      <td>9.780873e+12</td>\n",
       "      <td>416.000000</td>\n",
       "      <td>4.993500e+03</td>\n",
       "      <td>237.500000</td>\n",
       "    </tr>\n",
       "    <tr>\n",
       "      <th>max</th>\n",
       "      <td>45641.000000</td>\n",
       "      <td>5.000000</td>\n",
       "      <td>9.790008e+12</td>\n",
       "      <td>6576.000000</td>\n",
       "      <td>4.597666e+06</td>\n",
       "      <td>94265.000000</td>\n",
       "    </tr>\n",
       "  </tbody>\n",
       "</table>\n",
       "</div>"
      ],
      "text/plain": [
       "             bookID  average_rating        isbn13     num_pages  \\\n",
       "count  11127.000000    11127.000000  1.112700e+04  11127.000000   \n",
       "mean   21310.938887        3.933631  9.759888e+12    336.376921   \n",
       "std    13093.358023        0.352445  4.428964e+11    241.127305   \n",
       "min        1.000000        0.000000  8.987060e+09      0.000000   \n",
       "25%    10287.000000        3.770000  9.780345e+12    192.000000   \n",
       "50%    20287.000000        3.960000  9.780586e+12    299.000000   \n",
       "75%    32104.500000        4.135000  9.780873e+12    416.000000   \n",
       "max    45641.000000        5.000000  9.790008e+12   6576.000000   \n",
       "\n",
       "       ratings_count  text_reviews_count  \n",
       "count   1.112700e+04        11127.000000  \n",
       "mean    1.793641e+04          541.854498  \n",
       "std     1.124794e+05         2576.176608  \n",
       "min     0.000000e+00            0.000000  \n",
       "25%     1.040000e+02            9.000000  \n",
       "50%     7.450000e+02           46.000000  \n",
       "75%     4.993500e+03          237.500000  \n",
       "max     4.597666e+06        94265.000000  "
      ]
     },
     "execution_count": 4,
     "metadata": {},
     "output_type": "execute_result"
    }
   ],
   "source": [
    "# Basic statistics collected from our dataframe\n",
    "books.describe()"
   ]
  },
  {
   "cell_type": "code",
   "execution_count": 5,
   "id": "f456db31",
   "metadata": {},
   "outputs": [
    {
     "data": {
      "text/plain": [
       "11127"
      ]
     },
     "execution_count": 5,
     "metadata": {},
     "output_type": "execute_result"
    }
   ],
   "source": [
    "# how many rows of information are there, with each row representing a book?\n",
    "# use Python len() method  \n",
    "len(books) # 11127 rows"
   ]
  },
  {
   "cell_type": "code",
   "execution_count": 6,
   "id": "7425e51e",
   "metadata": {},
   "outputs": [
    {
     "data": {
      "text/plain": [
       "(11127, 12)"
      ]
     },
     "execution_count": 6,
     "metadata": {},
     "output_type": "execute_result"
    }
   ],
   "source": [
    "# dataframe has an attribute that can tell us how many rows and columns it has\n",
    "# each row is an individual piece of data\n",
    "# each column (12 in this dataframe) is a feature of each data point\n",
    "books.shape"
   ]
  },
  {
   "cell_type": "code",
   "execution_count": 7,
   "id": "d258aa66",
   "metadata": {},
   "outputs": [
    {
     "data": {
      "text/plain": [
       "bookID                  int64\n",
       "title                  object\n",
       "authors                object\n",
       "average_rating        float64\n",
       "isbn                   object\n",
       "isbn13                  int64\n",
       "language_code          object\n",
       "num_pages               int64\n",
       "ratings_count           int64\n",
       "text_reviews_count      int64\n",
       "publication_date       object\n",
       "publisher              object\n",
       "dtype: object"
      ]
     },
     "execution_count": 7,
     "metadata": {},
     "output_type": "execute_result"
    }
   ],
   "source": [
    "# it is important and necessary to understand what type of data exists in each feature\n",
    "# let us look at data types of the dataframe\n",
    "books.dtypes"
   ]
  },
  {
   "cell_type": "markdown",
   "id": "a83dceb5",
   "metadata": {},
   "source": [
    "From the data type list above, we notice that *publication_date* is not of a date type. We can change it into python datetime object. "
   ]
  },
  {
   "cell_type": "code",
   "execution_count": 8,
   "id": "4b2d8597",
   "metadata": {},
   "outputs": [
    {
     "data": {
      "text/plain": [
       "bookID                         int64\n",
       "title                         object\n",
       "authors                       object\n",
       "average_rating               float64\n",
       "isbn                          object\n",
       "isbn13                         int64\n",
       "language_code                 object\n",
       "num_pages                      int64\n",
       "ratings_count                  int64\n",
       "text_reviews_count             int64\n",
       "publication_date      datetime64[ns]\n",
       "publisher                     object\n",
       "dtype: object"
      ]
     },
     "execution_count": 8,
     "metadata": {},
     "output_type": "execute_result"
    }
   ],
   "source": [
    "# using pandas to_datetime method to modify data type of publication_date\n",
    "books['publication_date'] = pd.to_datetime(books['publication_date'])\n",
    "# verify that we accomplish it\n",
    "books.dtypes"
   ]
  },
  {
   "cell_type": "markdown",
   "id": "2d65af5a",
   "metadata": {},
   "source": [
    "## What is the most popular book?"
   ]
  },
  {
   "cell_type": "markdown",
   "id": "4008df50",
   "metadata": {},
   "source": [
    "How do we define popularity for book? A book with a high rating does not necessarily mean that it is popular. Based on the available features, we also need to consider the number of ratings that each book receives. For a book to be popular, it must possess both a high rating count as well as a favorable rating by the readers."
   ]
  },
  {
   "cell_type": "markdown",
   "id": "569faab1",
   "metadata": {},
   "source": [
    "How do we determine what constitutes a good rating for popular book? First of all, book rating is subjective to the reader and their experience. A book can be described as good by one person and bad by another. So the best thing we can do is to agree on a rating that we think best serves us in determining a good rating. To do that task, we need to pay attention to the *average_rating* column. We should not consider maximum found in our statistical table for *average_rating* because it is not helpful as a cutoff point. Looking at the mean (3.93) and 75th percentile (4.13), we understand that 75% of book ratings fall below 4.1 and the average rating among all books is 3.9. This gives us a good cutoff of 4.0 where anything that is rated above that rating can be considered to be popular.      "
   ]
  },
  {
   "cell_type": "markdown",
   "id": "8641d240",
   "metadata": {},
   "source": [
    "As for the rating count, the approopriate feature to examine is the *ratings_count*, and we want to look at the collected statistical data in our table for that feature in order to determine the right cutoff point. Both minimum and maximum don't seem to be of much help. The mean is 17,936, and if we are to use it, we may disregard a lot of books in our dataframe. Let us look at the different percentiles. There are 25% of books with 104 ratings or fewer, 50% with 745 ratings or fewer, and 75% with 4993 ratings or fewer. With this information, we see that the majority of books receives just shy of 5000 ratings, and it would be wise to include more books in our search. So a 5000 cutoff is a bit high. It is advisable to use the 50% percentile, and we will look at the upper half of our books based on the count of 1000 ratings or more, which will allow us to look through more books with considerable amount of reader ratings."
   ]
  },
  {
   "cell_type": "code",
   "execution_count": 9,
   "id": "79700b2e",
   "metadata": {},
   "outputs": [
    {
     "data": {
      "text/html": [
       "<div>\n",
       "<style scoped>\n",
       "    .dataframe tbody tr th:only-of-type {\n",
       "        vertical-align: middle;\n",
       "    }\n",
       "\n",
       "    .dataframe tbody tr th {\n",
       "        vertical-align: top;\n",
       "    }\n",
       "\n",
       "    .dataframe thead th {\n",
       "        text-align: right;\n",
       "    }\n",
       "</style>\n",
       "<table border=\"1\" class=\"dataframe\">\n",
       "  <thead>\n",
       "    <tr style=\"text-align: right;\">\n",
       "      <th></th>\n",
       "      <th>bookID</th>\n",
       "      <th>title</th>\n",
       "      <th>authors</th>\n",
       "      <th>average_rating</th>\n",
       "      <th>isbn</th>\n",
       "      <th>isbn13</th>\n",
       "      <th>language_code</th>\n",
       "      <th>num_pages</th>\n",
       "      <th>ratings_count</th>\n",
       "      <th>text_reviews_count</th>\n",
       "      <th>publication_date</th>\n",
       "      <th>publisher</th>\n",
       "    </tr>\n",
       "  </thead>\n",
       "  <tbody>\n",
       "    <tr>\n",
       "      <th>6590</th>\n",
       "      <td>24812</td>\n",
       "      <td>The Complete Calvin and Hobbes</td>\n",
       "      <td>Bill Watterson</td>\n",
       "      <td>4.82</td>\n",
       "      <td>740748475</td>\n",
       "      <td>9780740748479</td>\n",
       "      <td>eng</td>\n",
       "      <td>1456</td>\n",
       "      <td>32213</td>\n",
       "      <td>930</td>\n",
       "      <td>2005-09-06</td>\n",
       "      <td>Andrews McMeel Publishing</td>\n",
       "    </tr>\n",
       "    <tr>\n",
       "      <th>11</th>\n",
       "      <td>18</td>\n",
       "      <td>Harry Potter Boxed Set  Books 1-5 (Harry Potte...</td>\n",
       "      <td>J.K. Rowling/Mary GrandPré</td>\n",
       "      <td>4.78</td>\n",
       "      <td>439682584</td>\n",
       "      <td>9780439682589</td>\n",
       "      <td>eng</td>\n",
       "      <td>2690</td>\n",
       "      <td>41428</td>\n",
       "      <td>164</td>\n",
       "      <td>2004-09-13</td>\n",
       "      <td>Scholastic</td>\n",
       "    </tr>\n",
       "    <tr>\n",
       "      <th>6592</th>\n",
       "      <td>24814</td>\n",
       "      <td>It's a Magical World (Calvin and Hobbes  #11)</td>\n",
       "      <td>Bill Watterson</td>\n",
       "      <td>4.76</td>\n",
       "      <td>836221362</td>\n",
       "      <td>9780836221367</td>\n",
       "      <td>eng</td>\n",
       "      <td>176</td>\n",
       "      <td>23875</td>\n",
       "      <td>303</td>\n",
       "      <td>1996-09-01</td>\n",
       "      <td>Andrews McMeel Publishing</td>\n",
       "    </tr>\n",
       "    <tr>\n",
       "      <th>13</th>\n",
       "      <td>22</td>\n",
       "      <td>Harry Potter Collection (Harry Potter  #1-6)</td>\n",
       "      <td>J.K. Rowling</td>\n",
       "      <td>4.73</td>\n",
       "      <td>439827604</td>\n",
       "      <td>9780439827607</td>\n",
       "      <td>eng</td>\n",
       "      <td>3342</td>\n",
       "      <td>28242</td>\n",
       "      <td>808</td>\n",
       "      <td>2005-09-12</td>\n",
       "      <td>Scholastic</td>\n",
       "    </tr>\n",
       "    <tr>\n",
       "      <th>6593</th>\n",
       "      <td>24816</td>\n",
       "      <td>Homicidal Psycho Jungle Cat (Calvin and Hobbes...</td>\n",
       "      <td>Bill Watterson</td>\n",
       "      <td>4.72</td>\n",
       "      <td>836217691</td>\n",
       "      <td>9780836217698</td>\n",
       "      <td>eng</td>\n",
       "      <td>176</td>\n",
       "      <td>15365</td>\n",
       "      <td>290</td>\n",
       "      <td>1994-09-06</td>\n",
       "      <td>Andrews McMeel Publishing</td>\n",
       "    </tr>\n",
       "  </tbody>\n",
       "</table>\n",
       "</div>"
      ],
      "text/plain": [
       "      bookID                                              title  \\\n",
       "6590   24812                     The Complete Calvin and Hobbes   \n",
       "11        18  Harry Potter Boxed Set  Books 1-5 (Harry Potte...   \n",
       "6592   24814      It's a Magical World (Calvin and Hobbes  #11)   \n",
       "13        22       Harry Potter Collection (Harry Potter  #1-6)   \n",
       "6593   24816  Homicidal Psycho Jungle Cat (Calvin and Hobbes...   \n",
       "\n",
       "                         authors  average_rating       isbn         isbn13  \\\n",
       "6590              Bill Watterson            4.82  740748475  9780740748479   \n",
       "11    J.K. Rowling/Mary GrandPré            4.78  439682584  9780439682589   \n",
       "6592              Bill Watterson            4.76  836221362  9780836221367   \n",
       "13                  J.K. Rowling            4.73  439827604  9780439827607   \n",
       "6593              Bill Watterson            4.72  836217691  9780836217698   \n",
       "\n",
       "     language_code  num_pages  ratings_count  text_reviews_count  \\\n",
       "6590           eng       1456          32213                 930   \n",
       "11             eng       2690          41428                 164   \n",
       "6592           eng        176          23875                 303   \n",
       "13             eng       3342          28242                 808   \n",
       "6593           eng        176          15365                 290   \n",
       "\n",
       "     publication_date                  publisher  \n",
       "6590       2005-09-06  Andrews McMeel Publishing  \n",
       "11         2004-09-13                 Scholastic  \n",
       "6592       1996-09-01  Andrews McMeel Publishing  \n",
       "13         2005-09-12                 Scholastic  \n",
       "6593       1994-09-06  Andrews McMeel Publishing  "
      ]
     },
     "execution_count": 9,
     "metadata": {},
     "output_type": "execute_result"
    }
   ],
   "source": [
    "# below are our changeable cutoffs\n",
    "ratings_count_cutoff = 1000\n",
    "rating_cutoff = 4.0\n",
    "# filter dataframe with ratings_count\n",
    "books_with_large_count = books[books['ratings_count'] >= ratings_count_cutoff]\n",
    "# filter above dataframe with average_rating\n",
    "books_with_high_rating = books_with_large_count[books_with_large_count['average_rating'] > rating_cutoff]\n",
    "# see what the most popular book is\n",
    "books_with_high_rating.sort_values(by=['average_rating'], ascending=False)[:5]"
   ]
  },
  {
   "cell_type": "markdown",
   "id": "723a215a",
   "metadata": {},
   "source": [
    "In this result of top five books, we see that *The Complete Calvin and Hobbes* by Bill Watterson is the most popular book with an average rating of 4.82 and a ratings count of 32,213. Also, it is so amazing to see that Bill Watterson books take 3 positions in the top five list, with the other two belonging to J.K. Rowling. It is worthwhile to note that both Rowling titles are not individual works. They are sold as a collection of Rowling novels. So a question arises: Do the ratings for J.K. Rowling books reflect readers' favorable reviews for each piece of work or their approval for the overall set?\n",
    "\n",
    "Just for curiosity, we should discover top five books with big ratings count but they do not meet our threshold for average rating. "
   ]
  },
  {
   "cell_type": "code",
   "execution_count": 10,
   "id": "d377c647",
   "metadata": {},
   "outputs": [
    {
     "data": {
      "text/html": [
       "<div>\n",
       "<style scoped>\n",
       "    .dataframe tbody tr th:only-of-type {\n",
       "        vertical-align: middle;\n",
       "    }\n",
       "\n",
       "    .dataframe tbody tr th {\n",
       "        vertical-align: top;\n",
       "    }\n",
       "\n",
       "    .dataframe thead th {\n",
       "        text-align: right;\n",
       "    }\n",
       "</style>\n",
       "<table border=\"1\" class=\"dataframe\">\n",
       "  <thead>\n",
       "    <tr style=\"text-align: right;\">\n",
       "      <th></th>\n",
       "      <th>bookID</th>\n",
       "      <th>title</th>\n",
       "      <th>authors</th>\n",
       "      <th>average_rating</th>\n",
       "      <th>isbn</th>\n",
       "      <th>isbn13</th>\n",
       "      <th>language_code</th>\n",
       "      <th>num_pages</th>\n",
       "      <th>ratings_count</th>\n",
       "      <th>text_reviews_count</th>\n",
       "      <th>publication_date</th>\n",
       "      <th>publisher</th>\n",
       "    </tr>\n",
       "  </thead>\n",
       "  <tbody>\n",
       "    <tr>\n",
       "      <th>10340</th>\n",
       "      <td>41865</td>\n",
       "      <td>Twilight (Twilight  #1)</td>\n",
       "      <td>Stephenie Meyer</td>\n",
       "      <td>3.59</td>\n",
       "      <td>316015849</td>\n",
       "      <td>9780316015844</td>\n",
       "      <td>eng</td>\n",
       "      <td>501</td>\n",
       "      <td>4597666</td>\n",
       "      <td>94265</td>\n",
       "      <td>2006-09-06</td>\n",
       "      <td>Little  Brown and Company</td>\n",
       "    </tr>\n",
       "    <tr>\n",
       "      <th>1697</th>\n",
       "      <td>5907</td>\n",
       "      <td>The Hobbit  or There and Back Again</td>\n",
       "      <td>J.R.R. Tolkien</td>\n",
       "      <td>4.27</td>\n",
       "      <td>618260307</td>\n",
       "      <td>9780618260300</td>\n",
       "      <td>eng</td>\n",
       "      <td>366</td>\n",
       "      <td>2530894</td>\n",
       "      <td>32871</td>\n",
       "      <td>2002-08-15</td>\n",
       "      <td>Houghton Mifflin</td>\n",
       "    </tr>\n",
       "    <tr>\n",
       "      <th>1462</th>\n",
       "      <td>5107</td>\n",
       "      <td>The Catcher in the Rye</td>\n",
       "      <td>J.D. Salinger</td>\n",
       "      <td>3.80</td>\n",
       "      <td>316769177</td>\n",
       "      <td>9780316769174</td>\n",
       "      <td>eng</td>\n",
       "      <td>277</td>\n",
       "      <td>2457092</td>\n",
       "      <td>43499</td>\n",
       "      <td>2001-01-30</td>\n",
       "      <td>Back Bay Books</td>\n",
       "    </tr>\n",
       "    <tr>\n",
       "      <th>307</th>\n",
       "      <td>960</td>\n",
       "      <td>Angels &amp; Demons (Robert Langdon  #1)</td>\n",
       "      <td>Dan Brown</td>\n",
       "      <td>3.89</td>\n",
       "      <td>1416524797</td>\n",
       "      <td>9781416524793</td>\n",
       "      <td>eng</td>\n",
       "      <td>736</td>\n",
       "      <td>2418736</td>\n",
       "      <td>21303</td>\n",
       "      <td>2006-04-01</td>\n",
       "      <td>Pocket Books</td>\n",
       "    </tr>\n",
       "    <tr>\n",
       "      <th>10</th>\n",
       "      <td>16</td>\n",
       "      <td>Harry Potter and the Prisoner of Azkaban (Harr...</td>\n",
       "      <td>J.K. Rowling/Mary GrandPré</td>\n",
       "      <td>4.56</td>\n",
       "      <td>043965548X</td>\n",
       "      <td>9780439655484</td>\n",
       "      <td>eng</td>\n",
       "      <td>435</td>\n",
       "      <td>2339585</td>\n",
       "      <td>36325</td>\n",
       "      <td>2004-05-01</td>\n",
       "      <td>Scholastic Inc.</td>\n",
       "    </tr>\n",
       "  </tbody>\n",
       "</table>\n",
       "</div>"
      ],
      "text/plain": [
       "       bookID                                              title  \\\n",
       "10340   41865                            Twilight (Twilight  #1)   \n",
       "1697     5907                The Hobbit  or There and Back Again   \n",
       "1462     5107                             The Catcher in the Rye   \n",
       "307       960               Angels & Demons (Robert Langdon  #1)   \n",
       "10         16  Harry Potter and the Prisoner of Azkaban (Harr...   \n",
       "\n",
       "                          authors  average_rating        isbn         isbn13  \\\n",
       "10340             Stephenie Meyer            3.59   316015849  9780316015844   \n",
       "1697               J.R.R. Tolkien            4.27   618260307  9780618260300   \n",
       "1462                J.D. Salinger            3.80   316769177  9780316769174   \n",
       "307                     Dan Brown            3.89  1416524797  9781416524793   \n",
       "10     J.K. Rowling/Mary GrandPré            4.56  043965548X  9780439655484   \n",
       "\n",
       "      language_code  num_pages  ratings_count  text_reviews_count  \\\n",
       "10340           eng        501        4597666               94265   \n",
       "1697            eng        366        2530894               32871   \n",
       "1462            eng        277        2457092               43499   \n",
       "307             eng        736        2418736               21303   \n",
       "10              eng        435        2339585               36325   \n",
       "\n",
       "      publication_date                  publisher  \n",
       "10340       2006-09-06  Little  Brown and Company  \n",
       "1697        2002-08-15           Houghton Mifflin  \n",
       "1462        2001-01-30             Back Bay Books  \n",
       "307         2006-04-01               Pocket Books  \n",
       "10          2004-05-01            Scholastic Inc.  "
      ]
     },
     "execution_count": 10,
     "metadata": {},
     "output_type": "execute_result"
    }
   ],
   "source": [
    "# filter dataframe with ratings_count\n",
    "books_with_large_count = books[books['ratings_count'] >= ratings_count_cutoff]\n",
    "# top five books with the highest number of ratings by readers\n",
    "books_with_large_count.sort_values(by='ratings_count', ascending=False)[:5]"
   ]
  },
  {
   "cell_type": "markdown",
   "id": "ebf62907",
   "metadata": {},
   "source": [
    "Here, we see a diversity of writers and recognize that readers enjoy books of contemporary times as well as the classics. "
   ]
  },
  {
   "cell_type": "markdown",
   "id": "adb01097",
   "metadata": {},
   "source": [
    "## Are books with fewer pages rated higher than those with large page count?"
   ]
  },
  {
   "cell_type": "markdown",
   "id": "076b8e61",
   "metadata": {},
   "source": [
    "Similar to the previous question, we first need to decide the page count cutoff with which we will divide our books into two piles: one with few pages and the other having large page count. Again we will reference the *num_pages* column in our statistical table. We see that the average amount of pages that each book has is around 336, and the 50% percentile is around 299. The latter information really gives a good cutoff, and we decide to use 300 as the limit.\n",
    "\n",
    "Remember, as in our previous question, we will only examine literary works that have more than 1000 rating counts because we believe that books with a considerable amount of ratings really show that they attract attention in the popular contest."
   ]
  },
  {
   "cell_type": "code",
   "execution_count": 11,
   "id": "61227743",
   "metadata": {},
   "outputs": [
    {
     "data": {
      "text/html": [
       "<div>\n",
       "<style scoped>\n",
       "    .dataframe tbody tr th:only-of-type {\n",
       "        vertical-align: middle;\n",
       "    }\n",
       "\n",
       "    .dataframe tbody tr th {\n",
       "        vertical-align: top;\n",
       "    }\n",
       "\n",
       "    .dataframe thead th {\n",
       "        text-align: right;\n",
       "    }\n",
       "</style>\n",
       "<table border=\"1\" class=\"dataframe\">\n",
       "  <thead>\n",
       "    <tr style=\"text-align: right;\">\n",
       "      <th></th>\n",
       "      <th>bookID</th>\n",
       "      <th>title</th>\n",
       "      <th>authors</th>\n",
       "      <th>average_rating</th>\n",
       "      <th>isbn</th>\n",
       "      <th>isbn13</th>\n",
       "      <th>language_code</th>\n",
       "      <th>num_pages</th>\n",
       "      <th>ratings_count</th>\n",
       "      <th>text_reviews_count</th>\n",
       "      <th>publication_date</th>\n",
       "      <th>publisher</th>\n",
       "    </tr>\n",
       "  </thead>\n",
       "  <tbody>\n",
       "    <tr>\n",
       "      <th>6592</th>\n",
       "      <td>24814</td>\n",
       "      <td>It's a Magical World (Calvin and Hobbes  #11)</td>\n",
       "      <td>Bill Watterson</td>\n",
       "      <td>4.76</td>\n",
       "      <td>836221362</td>\n",
       "      <td>9780836221367</td>\n",
       "      <td>eng</td>\n",
       "      <td>176</td>\n",
       "      <td>23875</td>\n",
       "      <td>303</td>\n",
       "      <td>1996-09-01</td>\n",
       "      <td>Andrews McMeel Publishing</td>\n",
       "    </tr>\n",
       "  </tbody>\n",
       "</table>\n",
       "</div>"
      ],
      "text/plain": [
       "      bookID                                          title         authors  \\\n",
       "6592   24814  It's a Magical World (Calvin and Hobbes  #11)  Bill Watterson   \n",
       "\n",
       "      average_rating       isbn         isbn13 language_code  num_pages  \\\n",
       "6592            4.76  836221362  9780836221367           eng        176   \n",
       "\n",
       "      ratings_count  text_reviews_count publication_date  \\\n",
       "6592          23875                 303       1996-09-01   \n",
       "\n",
       "                      publisher  \n",
       "6592  Andrews McMeel Publishing  "
      ]
     },
     "execution_count": 11,
     "metadata": {},
     "output_type": "execute_result"
    }
   ],
   "source": [
    "# cutoff that decides whether a book is small or big book\n",
    "few_pages_cutoff = 300\n",
    "# filter dataframe with few_pages_cutoff to get a list of books with few pages\n",
    "few_pages = books[books['num_pages'] < few_pages_cutoff]\n",
    "# filter few_pages df with ratings_count_cutoff\n",
    "high_rating_few_pages = few_pages[few_pages['ratings_count'] > ratings_count_cutoff]\n",
    "# sort new df in descending order and display the top book\n",
    "high_rating_few_pages.sort_values(by=['average_rating'], ascending=False)[:1]"
   ]
  },
  {
   "cell_type": "code",
   "execution_count": 12,
   "id": "262f2f29",
   "metadata": {},
   "outputs": [
    {
     "data": {
      "text/plain": [
       "<AxesSubplot:title={'center':'Books with Fewer Pages'}>"
      ]
     },
     "execution_count": 12,
     "metadata": {},
     "output_type": "execute_result"
    },
    {
     "data": {
      "image/png": "[encoded data removed]",
      "text/plain": [
       "<Figure size 432x288 with 1 Axes>"
      ]
     },
     "metadata": {
      "needs_background": "light"
     },
     "output_type": "display_data"
    }
   ],
   "source": [
    "dframe1 = pd.DataFrame(high_rating_few_pages['average_rating'])\n",
    "dframe1.plot.box(vert=False, title=\"Books with Fewer Pages\", sym='r+')"
   ]
  },
  {
   "cell_type": "code",
   "execution_count": 13,
   "id": "3e386959",
   "metadata": {},
   "outputs": [
    {
     "data": {
      "text/html": [
       "<div>\n",
       "<style scoped>\n",
       "    .dataframe tbody tr th:only-of-type {\n",
       "        vertical-align: middle;\n",
       "    }\n",
       "\n",
       "    .dataframe tbody tr th {\n",
       "        vertical-align: top;\n",
       "    }\n",
       "\n",
       "    .dataframe thead th {\n",
       "        text-align: right;\n",
       "    }\n",
       "</style>\n",
       "<table border=\"1\" class=\"dataframe\">\n",
       "  <thead>\n",
       "    <tr style=\"text-align: right;\">\n",
       "      <th></th>\n",
       "      <th>bookID</th>\n",
       "      <th>title</th>\n",
       "      <th>authors</th>\n",
       "      <th>average_rating</th>\n",
       "      <th>isbn</th>\n",
       "      <th>isbn13</th>\n",
       "      <th>language_code</th>\n",
       "      <th>num_pages</th>\n",
       "      <th>ratings_count</th>\n",
       "      <th>text_reviews_count</th>\n",
       "      <th>publication_date</th>\n",
       "      <th>publisher</th>\n",
       "    </tr>\n",
       "  </thead>\n",
       "  <tbody>\n",
       "    <tr>\n",
       "      <th>6590</th>\n",
       "      <td>24812</td>\n",
       "      <td>The Complete Calvin and Hobbes</td>\n",
       "      <td>Bill Watterson</td>\n",
       "      <td>4.82</td>\n",
       "      <td>740748475</td>\n",
       "      <td>9780740748479</td>\n",
       "      <td>eng</td>\n",
       "      <td>1456</td>\n",
       "      <td>32213</td>\n",
       "      <td>930</td>\n",
       "      <td>2005-09-06</td>\n",
       "      <td>Andrews McMeel Publishing</td>\n",
       "    </tr>\n",
       "  </tbody>\n",
       "</table>\n",
       "</div>"
      ],
      "text/plain": [
       "      bookID                           title         authors  average_rating  \\\n",
       "6590   24812  The Complete Calvin and Hobbes  Bill Watterson            4.82   \n",
       "\n",
       "           isbn         isbn13 language_code  num_pages  ratings_count  \\\n",
       "6590  740748475  9780740748479           eng       1456          32213   \n",
       "\n",
       "      text_reviews_count publication_date                  publisher  \n",
       "6590                 930       2005-09-06  Andrews McMeel Publishing  "
      ]
     },
     "execution_count": 13,
     "metadata": {},
     "output_type": "execute_result"
    }
   ],
   "source": [
    "# filter dataframe to get a list of books with many pages\n",
    "many_pages = books[books['num_pages'] > few_pages_cutoff]\n",
    "# filter many_pages df to get books with high ratings count\n",
    "high_rating_many_pages = many_pages[many_pages['ratings_count'] > ratings_count_cutoff]\n",
    "# sort new df in descending order and display the top book\n",
    "high_rating_many_pages.sort_values(by=['average_rating'], ascending=False)[:1]"
   ]
  },
  {
   "cell_type": "code",
   "execution_count": 14,
   "id": "f462e448",
   "metadata": {},
   "outputs": [
    {
     "data": {
      "text/plain": [
       "<AxesSubplot:title={'center':'Books with Large Page Count'}>"
      ]
     },
     "execution_count": 14,
     "metadata": {},
     "output_type": "execute_result"
    },
    {
     "data": {
      "image/png": "[encoded data removed]",
      "text/plain": [
       "<Figure size 432x288 with 1 Axes>"
      ]
     },
     "metadata": {
      "needs_background": "light"
     },
     "output_type": "display_data"
    }
   ],
   "source": [
    "dframe2 = pd.DataFrame(high_rating_many_pages['average_rating'])\n",
    "dframe2.plot.box(vert=False, title=\"Books with Large Page Count\", sym='r+')"
   ]
  },
  {
   "cell_type": "markdown",
   "id": "1472344a",
   "metadata": {},
   "source": [
    "For easier comparison, let us have these two boxplots on the same graph below:"
   ]
  },
  {
   "cell_type": "code",
   "execution_count": 15,
   "id": "afe69638",
   "metadata": {},
   "outputs": [
    {
     "data": {
      "text/plain": [
       "<AxesSubplot:title={'center':'average_rating'}, xlabel='[Data]'>"
      ]
     },
     "execution_count": 15,
     "metadata": {},
     "output_type": "execute_result"
    },
    {
     "data": {
      "text/plain": [
       "<Figure size 432x288 with 0 Axes>"
      ]
     },
     "metadata": {},
     "output_type": "display_data"
    },
    {
     "data": {
      "image/png": "[encoded data removed]",
      "text/plain": [
       "<Figure size 432x288 with 1 Axes>"
      ]
     },
     "metadata": {
      "needs_background": "light"
     },
     "output_type": "display_data"
    }
   ],
   "source": [
    "dframe1['Data'] = \"Books with Few Pages\"\n",
    "dframe2['Data'] = \"Books with Many Pages\"\n",
    "combined_df = pd.concat([dframe1, dframe2])\n",
    "plt.figure()\n",
    "combined_df.boxplot(by=\"Data\", vert=False, sym='r+')"
   ]
  },
  {
   "cell_type": "markdown",
   "id": "a8f1eedb",
   "metadata": {},
   "source": [
    "**Observation**: Both books are written by Bill Watterson. Both have high average ratings, but they are opposite in the page count. With regards to the average rating, there is only 0.06 difference between the top book in each category as indicated in the boxplots. Our boxplots also reveal to us that the median average rating for both categories is near 4.0, which tells us that a book's page count may not affect its average rating as much as we think. "
   ]
  },
  {
   "cell_type": "markdown",
   "id": "9fff720e",
   "metadata": {},
   "source": [
    "## What is the most popular book in the 1980's?"
   ]
  },
  {
   "cell_type": "markdown",
   "id": "440e44c2",
   "metadata": {},
   "source": [
    "This question is an extension of the first question where we were finding the most popular book. It is obvious that we have to consider books that fall between January 1980 and December 1989, and thus we have to take into account the *publication_date* column. We must filter our books dataframe to collect all books published in the 1980's. In order to compare dates, we need to remember that the *publication_date* column returns a DateTimeArray (datetime64[ns]), and so we should use **pandas.Timestamp** to create our datetime objects with which to winnow out books that are out of date range. Only then can we continue looking for the most popular book in the new dataframe."
   ]
  },
  {
   "cell_type": "code",
   "execution_count": 16,
   "id": "227a48fa",
   "metadata": {},
   "outputs": [],
   "source": [
    "# start and end of desired decade\n",
    "decade_start = pd.Timestamp(1980,1,1)\n",
    "decade_end = pd.Timestamp(1990,1,1)\n",
    "# filter our books df using the dates\n",
    "books_1980s = books[(books['publication_date'] > decade_start) & (books['publication_date'] < decade_end)]"
   ]
  },
  {
   "cell_type": "code",
   "execution_count": 17,
   "id": "e5566211",
   "metadata": {},
   "outputs": [
    {
     "data": {
      "text/html": [
       "<div>\n",
       "<style scoped>\n",
       "    .dataframe tbody tr th:only-of-type {\n",
       "        vertical-align: middle;\n",
       "    }\n",
       "\n",
       "    .dataframe tbody tr th {\n",
       "        vertical-align: top;\n",
       "    }\n",
       "\n",
       "    .dataframe thead th {\n",
       "        text-align: right;\n",
       "    }\n",
       "</style>\n",
       "<table border=\"1\" class=\"dataframe\">\n",
       "  <thead>\n",
       "    <tr style=\"text-align: right;\">\n",
       "      <th></th>\n",
       "      <th>bookID</th>\n",
       "      <th>title</th>\n",
       "      <th>authors</th>\n",
       "      <th>average_rating</th>\n",
       "      <th>isbn</th>\n",
       "      <th>isbn13</th>\n",
       "      <th>language_code</th>\n",
       "      <th>num_pages</th>\n",
       "      <th>ratings_count</th>\n",
       "      <th>text_reviews_count</th>\n",
       "      <th>publication_date</th>\n",
       "      <th>publisher</th>\n",
       "    </tr>\n",
       "  </thead>\n",
       "  <tbody>\n",
       "    <tr>\n",
       "      <th>10032</th>\n",
       "      <td>40384</td>\n",
       "      <td>Synthetic Men of Mars (Barsoom  #9)</td>\n",
       "      <td>Edgar Rice Burroughs</td>\n",
       "      <td>3.78</td>\n",
       "      <td>345339304</td>\n",
       "      <td>9780345339300</td>\n",
       "      <td>eng</td>\n",
       "      <td>160</td>\n",
       "      <td>2601</td>\n",
       "      <td>58</td>\n",
       "      <td>1980-01-12</td>\n",
       "      <td>Del Rey</td>\n",
       "    </tr>\n",
       "  </tbody>\n",
       "</table>\n",
       "</div>"
      ],
      "text/plain": [
       "       bookID                                title               authors  \\\n",
       "10032   40384  Synthetic Men of Mars (Barsoom  #9)  Edgar Rice Burroughs   \n",
       "\n",
       "       average_rating       isbn         isbn13 language_code  num_pages  \\\n",
       "10032            3.78  345339304  9780345339300           eng        160   \n",
       "\n",
       "       ratings_count  text_reviews_count publication_date publisher  \n",
       "10032           2601                  58       1980-01-12   Del Rey  "
      ]
     },
     "execution_count": 17,
     "metadata": {},
     "output_type": "execute_result"
    }
   ],
   "source": [
    "# verify our new df \n",
    "# by gett the first book of 1980s\n",
    "books_1980s.sort_values(by=['publication_date'])[:1]"
   ]
  },
  {
   "cell_type": "code",
   "execution_count": 18,
   "id": "1267c7e5",
   "metadata": {},
   "outputs": [
    {
     "data": {
      "text/html": [
       "<div>\n",
       "<style scoped>\n",
       "    .dataframe tbody tr th:only-of-type {\n",
       "        vertical-align: middle;\n",
       "    }\n",
       "\n",
       "    .dataframe tbody tr th {\n",
       "        vertical-align: top;\n",
       "    }\n",
       "\n",
       "    .dataframe thead th {\n",
       "        text-align: right;\n",
       "    }\n",
       "</style>\n",
       "<table border=\"1\" class=\"dataframe\">\n",
       "  <thead>\n",
       "    <tr style=\"text-align: right;\">\n",
       "      <th></th>\n",
       "      <th>bookID</th>\n",
       "      <th>title</th>\n",
       "      <th>authors</th>\n",
       "      <th>average_rating</th>\n",
       "      <th>isbn</th>\n",
       "      <th>isbn13</th>\n",
       "      <th>language_code</th>\n",
       "      <th>num_pages</th>\n",
       "      <th>ratings_count</th>\n",
       "      <th>text_reviews_count</th>\n",
       "      <th>publication_date</th>\n",
       "      <th>publisher</th>\n",
       "    </tr>\n",
       "  </thead>\n",
       "  <tbody>\n",
       "    <tr>\n",
       "      <th>6934</th>\n",
       "      <td>26154</td>\n",
       "      <td>Good Grief: The Story of Charles M. Schulz</td>\n",
       "      <td>Rheta Grimsley Johnson</td>\n",
       "      <td>3.72</td>\n",
       "      <td>886875536</td>\n",
       "      <td>9780886875534</td>\n",
       "      <td>eng</td>\n",
       "      <td>256</td>\n",
       "      <td>20</td>\n",
       "      <td>1</td>\n",
       "      <td>1989-12-31</td>\n",
       "      <td>Pharos Books</td>\n",
       "    </tr>\n",
       "  </tbody>\n",
       "</table>\n",
       "</div>"
      ],
      "text/plain": [
       "      bookID                                       title  \\\n",
       "6934   26154  Good Grief: The Story of Charles M. Schulz   \n",
       "\n",
       "                     authors  average_rating       isbn         isbn13  \\\n",
       "6934  Rheta Grimsley Johnson            3.72  886875536  9780886875534   \n",
       "\n",
       "     language_code  num_pages  ratings_count  text_reviews_count  \\\n",
       "6934           eng        256             20                   1   \n",
       "\n",
       "     publication_date     publisher  \n",
       "6934       1989-12-31  Pharos Books  "
      ]
     },
     "execution_count": 18,
     "metadata": {},
     "output_type": "execute_result"
    }
   ],
   "source": [
    "# by getting the last book of 1980s\n",
    "books_1980s.sort_values(by=['publication_date'])[-1:]"
   ]
  },
  {
   "cell_type": "code",
   "execution_count": 19,
   "id": "5bf8978f",
   "metadata": {},
   "outputs": [
    {
     "data": {
      "text/html": [
       "<div>\n",
       "<style scoped>\n",
       "    .dataframe tbody tr th:only-of-type {\n",
       "        vertical-align: middle;\n",
       "    }\n",
       "\n",
       "    .dataframe tbody tr th {\n",
       "        vertical-align: top;\n",
       "    }\n",
       "\n",
       "    .dataframe thead th {\n",
       "        text-align: right;\n",
       "    }\n",
       "</style>\n",
       "<table border=\"1\" class=\"dataframe\">\n",
       "  <thead>\n",
       "    <tr style=\"text-align: right;\">\n",
       "      <th></th>\n",
       "      <th>bookID</th>\n",
       "      <th>title</th>\n",
       "      <th>authors</th>\n",
       "      <th>average_rating</th>\n",
       "      <th>isbn</th>\n",
       "      <th>isbn13</th>\n",
       "      <th>language_code</th>\n",
       "      <th>num_pages</th>\n",
       "      <th>ratings_count</th>\n",
       "      <th>text_reviews_count</th>\n",
       "      <th>publication_date</th>\n",
       "      <th>publisher</th>\n",
       "    </tr>\n",
       "  </thead>\n",
       "  <tbody>\n",
       "    <tr>\n",
       "      <th>8579</th>\n",
       "      <td>32951</td>\n",
       "      <td>Sister Outsider: Essays and Speeches</td>\n",
       "      <td>Audre Lorde</td>\n",
       "      <td>4.49</td>\n",
       "      <td>895941414</td>\n",
       "      <td>9780895941411</td>\n",
       "      <td>en-GB</td>\n",
       "      <td>190</td>\n",
       "      <td>12105</td>\n",
       "      <td>568</td>\n",
       "      <td>1984-06-01</td>\n",
       "      <td>Crossing Press</td>\n",
       "    </tr>\n",
       "  </tbody>\n",
       "</table>\n",
       "</div>"
      ],
      "text/plain": [
       "      bookID                                 title      authors  \\\n",
       "8579   32951  Sister Outsider: Essays and Speeches  Audre Lorde   \n",
       "\n",
       "      average_rating       isbn         isbn13 language_code  num_pages  \\\n",
       "8579            4.49  895941414  9780895941411         en-GB        190   \n",
       "\n",
       "      ratings_count  text_reviews_count publication_date       publisher  \n",
       "8579          12105                 568       1984-06-01  Crossing Press  "
      ]
     },
     "execution_count": 19,
     "metadata": {},
     "output_type": "execute_result"
    }
   ],
   "source": [
    "# filter our new df with two cutoff points\n",
    "# reference back to our old cutoff points for ratings_count and average_rating\n",
    "high_count_books = books_1980s[books_1980s['ratings_count'] > ratings_count_cutoff]\n",
    "popular_books_80s = high_count_books[high_count_books['average_rating'] > rating_cutoff]\n",
    "# find the top book of the 1980s\n",
    "popular_books_80s.sort_values(by=['average_rating'], ascending=False)[:1]"
   ]
  },
  {
   "cell_type": "markdown",
   "id": "c34e9e32",
   "metadata": {},
   "source": [
    "## Who wrote the most pages?"
   ]
  },
  {
   "cell_type": "code",
   "execution_count": 20,
   "id": "6a6a539d",
   "metadata": {},
   "outputs": [
    {
     "name": "stdout",
     "output_type": "stream",
     "text": [
      "Current top author:  Douglas Adams\n",
      "With total pages:  5049\n",
      "Current top author:  Bill Bryson\n",
      "With total pages:  6865\n",
      "Current top author:  J.K. Rowling\n",
      "With total pages:  8014\n",
      "Current top author:  J.R.R. Tolkien\n",
      "With total pages:  12537\n",
      "Current top author:  Stephen King\n",
      "With total pages:  18219\n",
      "\n",
      "Final Result:\n",
      "Stephen King: 18219\n"
     ]
    }
   ],
   "source": [
    "# maximum number of pages written by the author\n",
    "max_pages = 0\n",
    "# author with the most pages\n",
    "top_author = None\n",
    "# all authors in dataframe, deduplicating names with pd.Series.unique\n",
    "all_authors = books['authors'].unique()\n",
    "\n",
    "# Iterate through each author\n",
    "for author in all_authors:\n",
    "    # pd.DataFrame.loc property allows us to locate the author as specified by the conditional\n",
    "    # and returns data from column num_pages, then sum all values in that column with method sum()\n",
    "    total_pages = books.loc[books['authors'] == author, 'num_pages'].sum()\n",
    "    \n",
    "    # verify that author's total_pages is indeed greater than current max_pages\n",
    "    if total_pages > max_pages:\n",
    "        # if true, then update max_pages for later checks\n",
    "        max_pages = total_pages\n",
    "        # update the top author placeholder\n",
    "        top_author = author\n",
    "        # announce current top author\n",
    "        print(\"Current top author: \", top_author)\n",
    "        print(\"With total pages: \", total_pages)\n",
    "\n",
    "# Print final result:\n",
    "print(\"\\nFinal Result:\")\n",
    "print(top_author, end=\": \")\n",
    "print(max_pages)"
   ]
  },
  {
   "cell_type": "markdown",
   "id": "d53974aa",
   "metadata": {},
   "source": [
    "## What is an author's average page count?"
   ]
  },
  {
   "cell_type": "markdown",
   "id": "9e302347",
   "metadata": {},
   "source": [
    "First we need to specify the author for whom we want to find the average page count.\n",
    "\n",
    "Then, find the number of pages as well as the number of works written by the author.\n",
    "\n",
    "Lastly, calculate the average page count for that author."
   ]
  },
  {
   "cell_type": "code",
   "execution_count": 22,
   "id": "fb6115b7",
   "metadata": {},
   "outputs": [
    {
     "name": "stdout",
     "output_type": "stream",
     "text": [
      "An author's average page count is 455.475\n"
     ]
    }
   ],
   "source": [
    "author = \"Stephen King\"\n",
    "\n",
    "total_pages = books.loc[books['authors'] == author, 'num_pages'].sum()\n",
    "\n",
    "num_of_books = len(books[books['authors'] == author])\n",
    "\n",
    "avg_page_ct = total_pages / num_of_books\n",
    "\n",
    "print(f\"An author's average page count is {avg_page_ct}\")"
   ]
  },
  {
   "cell_type": "markdown",
   "id": "c28f5912",
   "metadata": {},
   "source": [
    "## How many books have been written with less than 200 pages?"
   ]
  },
  {
   "cell_type": "code",
   "execution_count": 32,
   "id": "8897587c",
   "metadata": {},
   "outputs": [
    {
     "data": {
      "text/plain": [
       "2898"
      ]
     },
     "execution_count": 32,
     "metadata": {},
     "output_type": "execute_result"
    }
   ],
   "source": [
    "# Use boolean index to find records that satisfy\n",
    "# our boolean expression: books['num_pages'] < 200\n",
    "# Then we find the length of our returned dataframe\n",
    "# to find the number of books that have been written\n",
    "# in under 200 pages\n",
    "subset_books = books[books['num_pages'] < 200]\n",
    "books_less_than_200pg = len(subset_books)\n",
    "books_less_than_200pg"
   ]
  },
  {
   "cell_type": "markdown",
   "id": "08b0d6b4",
   "metadata": {},
   "source": [
    "So, we see that we have 2,898 books that was written with less than 200 pages in our dataset. "
   ]
  },
  {
   "cell_type": "code",
   "execution_count": 33,
   "id": "2b4d7575",
   "metadata": {},
   "outputs": [
    {
     "data": {
      "text/plain": [
       "11127"
      ]
     },
     "execution_count": 33,
     "metadata": {},
     "output_type": "execute_result"
    }
   ],
   "source": [
    "total_num_books = len(books)\n",
    "total_num_books"
   ]
  },
  {
   "cell_type": "code",
   "execution_count": 34,
   "id": "4bbfd1a4",
   "metadata": {},
   "outputs": [
    {
     "name": "stdout",
     "output_type": "stream",
     "text": [
      "Out of all books, how many are books with less than 200 pages in percentage? Answer: 26.045\n"
     ]
    }
   ],
   "source": [
    "percentage_of_200pg_books = (books_less_than_200pg / total_num_books) * 100\n",
    "print(f\"Out of all books, how many are books with less than 200 pages in percentage? Answer: {percentage_of_200pg_books:.3f}\")"
   ]
  },
  {
   "cell_type": "markdown",
   "id": "675274a2",
   "metadata": {},
   "source": [
    "Now, we learn that about 26% of all our books are less than 200 pages. Then, this begs the question: Who accomplished their writing goals within 200 pages? Let us find out! "
   ]
  },
  {
   "cell_type": "code",
   "execution_count": 51,
   "id": "70c67aa8",
   "metadata": {},
   "outputs": [
    {
     "name": "stdout",
     "output_type": "stream",
     "text": [
      "Number of writers with books less than 200 pages: 2173\n",
      "\n",
      "First 10 authors in the set:\n",
      "1. Abigail Thomas\n",
      "2. Abraham Lincoln/Bob Blaisdell\n",
      "3. Abraham Lincoln/Michael McCurdy\n",
      "4. Adam  Sexton/G. Tubach\n",
      "5. Adam Rex\n",
      "6. Adam Swift\n",
      "7. Adam Woog\n",
      "8. Adèle Geras/Shelagh McNicholas/Adèle Geras\n",
      "9. Aeschylus/David Grene/Richmond Lattimore\n",
      "10. Aeschylus/David Grene/Richmond Lattimore/Seth Benardete\n"
     ]
    }
   ],
   "source": [
    "# Deduplicate records in the Series with unique() method\n",
    "set_of_writers = subset_books['authors'].unique()\n",
    "\n",
    "# Size of the set of writers\n",
    "writer_set_size = len(set_of_writers)\n",
    "print(\"Number of writers with books less than 200 pages: {}\".format(writer_set_size))\n",
    "\n",
    "# Preview first five authors in the set\n",
    "preview_size = 10\n",
    "\n",
    "# sort the set\n",
    "sorted_set = sorted(set_of_writers)\n",
    "\n",
    "print(\"\\nFirst {} authors in the set:\".format(preview_size))\n",
    "for pos in range(preview_size):\n",
    "    print(f\"{pos+1}. {sorted_set[pos]}\")"
   ]
  },
  {
   "cell_type": "markdown",
   "id": "b8aa2590",
   "metadata": {},
   "source": [
    "## What is Penguin Books' most popular book?"
   ]
  },
  {
   "cell_type": "code",
   "execution_count": null,
   "id": "eb07025a",
   "metadata": {},
   "outputs": [],
   "source": [
    "current_publisher = 'Penguin Books'\n",
    "PB_books = books[books['publisher'] == current_publisher] # Filter books published by Penguin Books\n",
    "PB_books_with_large_count = PB_books[PB_books['ratings_count'] > ratings_count_cutoff]\n",
    "PB_books_with_high_rating = PB_books_with_large_count[\n",
    "                PB_books_with_large_count['average_rating'] > rating_cutoff]"
   ]
  }
 ],
 "metadata": {
  "kernelspec": {
   "display_name": "Python 3",
   "language": "python",
   "name": "python3"
  },
  "language_info": {
   "codemirror_mode": {
    "name": "ipython",
    "version": 3
   },
   "file_extension": ".py",
   "mimetype": "text/x-python",
   "name": "python",
   "nbconvert_exporter": "python",
   "pygments_lexer": "ipython3",
   "version": "3.8.5"
  }
 },
 "nbformat": 4,
 "nbformat_minor": 5
}
